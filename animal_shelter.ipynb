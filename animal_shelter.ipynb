{
 "cells": [
  {
   "cell_type": "code",
   "execution_count": 10,
   "id": "7daa7fb3",
   "metadata": {},
   "outputs": [],
   "source": [
    "from animal_shelter import AnimalShelter"
   ]
  },
  {
   "cell_type": "code",
   "execution_count": 11,
   "id": "a342893e",
   "metadata": {},
   "outputs": [],
   "source": [
    "animal_shelter = AnimalShelter()"
   ]
  },
  {
   "cell_type": "code",
   "execution_count": 12,
   "id": "b757defa",
   "metadata": {},
   "outputs": [
    {
     "data": {
      "text/plain": [
       "True"
      ]
     },
     "execution_count": 12,
     "metadata": {},
     "output_type": "execute_result"
    }
   ],
   "source": [
    "animal_shelter.create(\n",
    "    {\n",
    "        \"rec_num\": 10001,\n",
    "        \"age_upon_outcome\": \"5 months\",\n",
    "        \"animal_id\": \"A812345\",\n",
    "        \"animal_type\": \"Dog\",\n",
    "        \"breed\": \"Labrador Retriever Mix\",\n",
    "        \"color\": \"Brown/White\",\n",
    "        \"date_of_birth\": \"2021-10-15\",\n",
    "        \"datetime\": \"2022-03-15 14:30:00\",\n",
    "        \"monthyear\": \"2022-03-15T14:30:00\",\n",
    "        \"name\": \"Buddy\",\n",
    "        \"outcome_subtype\": \"Foster\",\n",
    "        \"outcome_type\": \"Adoption\",\n",
    "        \"sex_upon_outcome\": \"Spayed Female\",\n",
    "        \"location_lat\": 30.307182,\n",
    "        \"location_long\": -97.755996,\n",
    "        \"age_upon_outcome_in_weeks\": 21.571428571428573\n",
    "    }\n",
    ")"
   ]
  },
  {
   "cell_type": "code",
   "execution_count": 13,
   "id": "6c8d17b5",
   "metadata": {},
   "outputs": [
    {
     "data": {
      "text/plain": [
       "[{'_id': ObjectId('683520b11b0ebef0dcba0664'),\n",
       "  'rec_num': 10001,\n",
       "  'age_upon_outcome': '5 months',\n",
       "  'animal_id': 'A812345',\n",
       "  'animal_type': 'Dog',\n",
       "  'breed': 'Labrador Retriever Mix',\n",
       "  'color': 'Brown/White',\n",
       "  'date_of_birth': '2021-10-15',\n",
       "  'datetime': '2022-03-15 14:30:00',\n",
       "  'monthyear': '2022-03-15T14:30:00',\n",
       "  'name': 'Buddy',\n",
       "  'outcome_subtype': 'Foster',\n",
       "  'outcome_type': 'Adoption',\n",
       "  'sex_upon_outcome': 'Spayed Female',\n",
       "  'location_lat': 30.307182,\n",
       "  'location_long': -97.755996,\n",
       "  'age_upon_outcome_in_weeks': 21.571428571428573},\n",
       " {'_id': ObjectId('683a387d1b0ebef0dcba0666'),\n",
       "  'rec_num': 10001,\n",
       "  'age_upon_outcome': '5 months',\n",
       "  'animal_id': 'A812345',\n",
       "  'animal_type': 'Dog',\n",
       "  'breed': 'Labrador Retriever Mix',\n",
       "  'color': 'Brown/White',\n",
       "  'date_of_birth': '2021-10-15',\n",
       "  'datetime': '2022-03-15 14:30:00',\n",
       "  'monthyear': '2022-03-15T14:30:00',\n",
       "  'name': 'Buddy',\n",
       "  'outcome_subtype': 'Foster',\n",
       "  'outcome_type': 'Adoption',\n",
       "  'sex_upon_outcome': 'Spayed Female',\n",
       "  'location_lat': 30.307182,\n",
       "  'location_long': -97.755996,\n",
       "  'age_upon_outcome_in_weeks': 21.571428571428573}]"
      ]
     },
     "execution_count": 13,
     "metadata": {},
     "output_type": "execute_result"
    }
   ],
   "source": [
    "animal_shelter.find({\"animal_id\": \"A812345\"})"
   ]
  },
  {
   "cell_type": "code",
   "execution_count": null,
   "id": "b2348f05",
   "metadata": {},
   "outputs": [],
   "source": []
  }
 ],
 "metadata": {
  "kernelspec": {
   "display_name": ".venv",
   "language": "python",
   "name": "python3"
  },
  "language_info": {
   "codemirror_mode": {
    "name": "ipython",
    "version": 3
   },
   "file_extension": ".py",
   "mimetype": "text/x-python",
   "name": "python",
   "nbconvert_exporter": "python",
   "pygments_lexer": "ipython3",
   "version": "3.13.3"
  }
 },
 "nbformat": 4,
 "nbformat_minor": 5
}
