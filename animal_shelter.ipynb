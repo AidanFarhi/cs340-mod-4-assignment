{
 "cells": [
  {
   "cell_type": "markdown",
   "id": "f4cc2679",
   "metadata": {},
   "source": [
    "# Testing the AnimalShelter class"
   ]
  },
  {
   "cell_type": "markdown",
   "id": "141e83d1",
   "metadata": {},
   "source": [
    "Import the AnimalShelter Class"
   ]
  },
  {
   "cell_type": "code",
   "execution_count": 27,
   "id": "7daa7fb3",
   "metadata": {},
   "outputs": [],
   "source": [
    "from animal_shelter import AnimalShelter"
   ]
  },
  {
   "cell_type": "markdown",
   "id": "cd39688e",
   "metadata": {},
   "source": [
    "Create an instance of the AnimalShelter class"
   ]
  },
  {
   "cell_type": "code",
   "execution_count": 28,
   "id": "a342893e",
   "metadata": {},
   "outputs": [],
   "source": [
    "animal_shelter = AnimalShelter()"
   ]
  },
  {
   "cell_type": "markdown",
   "id": "20dc39e6",
   "metadata": {},
   "source": [
    "Insert a record into the database"
   ]
  },
  {
   "cell_type": "code",
   "execution_count": 29,
   "id": "b757defa",
   "metadata": {},
   "outputs": [
    {
     "data": {
      "text/plain": [
       "True"
      ]
     },
     "execution_count": 29,
     "metadata": {},
     "output_type": "execute_result"
    }
   ],
   "source": [
    "animal_shelter.create(\n",
    "    {\n",
    "        \"rec_num\": 10001,\n",
    "        \"age_upon_outcome\": \"5 months\",\n",
    "        \"animal_id\": \"A812345\",\n",
    "        \"animal_type\": \"Dog\",\n",
    "        \"breed\": \"Labrador Retriever Mix\",\n",
    "        \"color\": \"Brown/White\",\n",
    "        \"date_of_birth\": \"2021-10-15\",\n",
    "        \"datetime\": \"2022-03-15 14:30:00\",\n",
    "        \"monthyear\": \"2022-03-15T14:30:00\",\n",
    "        \"name\": \"Buddy\",\n",
    "        \"outcome_subtype\": \"Foster\",\n",
    "        \"outcome_type\": \"Adoption\",\n",
    "        \"sex_upon_outcome\": \"Spayed Female\",\n",
    "        \"location_lat\": 30.307182,\n",
    "        \"location_long\": -97.755996,\n",
    "        \"age_upon_outcome_in_weeks\": 21.571428571428573\n",
    "    }\n",
    ")"
   ]
  },
  {
   "cell_type": "markdown",
   "id": "18c09799",
   "metadata": {},
   "source": [
    "Find the record that was just inserted"
   ]
  },
  {
   "cell_type": "code",
   "execution_count": 30,
   "id": "6c8d17b5",
   "metadata": {},
   "outputs": [
    {
     "data": {
      "text/plain": [
       "{'_id': ObjectId('6846190e5230d399f4609f52'),\n",
       " 'rec_num': 10001,\n",
       " 'age_upon_outcome': '5 months',\n",
       " 'animal_id': 'A812345',\n",
       " 'animal_type': 'Dog',\n",
       " 'breed': 'Labrador Retriever Mix',\n",
       " 'color': 'Brown/White',\n",
       " 'date_of_birth': '2021-10-15',\n",
       " 'datetime': '2022-03-15 14:30:00',\n",
       " 'monthyear': '2022-03-15T14:30:00',\n",
       " 'name': 'Buddy',\n",
       " 'outcome_subtype': 'Foster',\n",
       " 'outcome_type': 'Adoption',\n",
       " 'sex_upon_outcome': 'Spayed Female',\n",
       " 'location_lat': 30.307182,\n",
       " 'location_long': -97.755996,\n",
       " 'age_upon_outcome_in_weeks': 21.571428571428573}"
      ]
     },
     "execution_count": 30,
     "metadata": {},
     "output_type": "execute_result"
    }
   ],
   "source": [
    "animal_shelter.find({\"animal_id\": \"A812345\"})[0]"
   ]
  },
  {
   "cell_type": "markdown",
   "id": "29366e48",
   "metadata": {},
   "source": [
    "Update the \"name\" field of the record to \"Skippy\""
   ]
  },
  {
   "cell_type": "code",
   "execution_count": 31,
   "id": "b2348f05",
   "metadata": {},
   "outputs": [
    {
     "data": {
      "text/plain": [
       "1"
      ]
     },
     "execution_count": 31,
     "metadata": {},
     "output_type": "execute_result"
    }
   ],
   "source": [
    "animal_shelter.update({\"animal_id\": \"A812345\"}, {\"$set\": {\"name\": \"Skippy\"}})"
   ]
  },
  {
   "cell_type": "markdown",
   "id": "e27227f0",
   "metadata": {},
   "source": [
    "Validate that the record was updated"
   ]
  },
  {
   "cell_type": "code",
   "execution_count": 32,
   "id": "f27268d8",
   "metadata": {},
   "outputs": [
    {
     "data": {
      "text/plain": [
       "{'_id': ObjectId('6846190e5230d399f4609f52'),\n",
       " 'rec_num': 10001,\n",
       " 'age_upon_outcome': '5 months',\n",
       " 'animal_id': 'A812345',\n",
       " 'animal_type': 'Dog',\n",
       " 'breed': 'Labrador Retriever Mix',\n",
       " 'color': 'Brown/White',\n",
       " 'date_of_birth': '2021-10-15',\n",
       " 'datetime': '2022-03-15 14:30:00',\n",
       " 'monthyear': '2022-03-15T14:30:00',\n",
       " 'name': 'Skippy',\n",
       " 'outcome_subtype': 'Foster',\n",
       " 'outcome_type': 'Adoption',\n",
       " 'sex_upon_outcome': 'Spayed Female',\n",
       " 'location_lat': 30.307182,\n",
       " 'location_long': -97.755996,\n",
       " 'age_upon_outcome_in_weeks': 21.571428571428573}"
      ]
     },
     "execution_count": 32,
     "metadata": {},
     "output_type": "execute_result"
    }
   ],
   "source": [
    "animal_shelter.find({\"animal_id\": \"A812345\"})[0]"
   ]
  },
  {
   "cell_type": "markdown",
   "id": "22a9ace9",
   "metadata": {},
   "source": [
    "Delete the record"
   ]
  },
  {
   "cell_type": "code",
   "execution_count": 33,
   "id": "f338d525",
   "metadata": {},
   "outputs": [
    {
     "data": {
      "text/plain": [
       "1"
      ]
     },
     "execution_count": 33,
     "metadata": {},
     "output_type": "execute_result"
    }
   ],
   "source": [
    "animal_shelter.delete({\"animal_id\": \"A812345\"})"
   ]
  },
  {
   "cell_type": "markdown",
   "id": "39506b53",
   "metadata": {},
   "source": [
    "Validate that the record was deleted"
   ]
  },
  {
   "cell_type": "code",
   "execution_count": 34,
   "id": "5b6600ea",
   "metadata": {},
   "outputs": [
    {
     "data": {
      "text/plain": [
       "[]"
      ]
     },
     "execution_count": 34,
     "metadata": {},
     "output_type": "execute_result"
    }
   ],
   "source": [
    "animal_shelter.find({\"animal_id\": \"A812345\"})"
   ]
  },
  {
   "cell_type": "code",
   "execution_count": null,
   "id": "4b5574a6",
   "metadata": {},
   "outputs": [],
   "source": []
  }
 ],
 "metadata": {
  "kernelspec": {
   "display_name": ".venv",
   "language": "python",
   "name": "python3"
  },
  "language_info": {
   "codemirror_mode": {
    "name": "ipython",
    "version": 3
   },
   "file_extension": ".py",
   "mimetype": "text/x-python",
   "name": "python",
   "nbconvert_exporter": "python",
   "pygments_lexer": "ipython3",
   "version": "3.13.3"
  }
 },
 "nbformat": 4,
 "nbformat_minor": 5
}
